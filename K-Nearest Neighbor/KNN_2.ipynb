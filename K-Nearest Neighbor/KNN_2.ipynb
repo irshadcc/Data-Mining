{
  "nbformat": 4,
  "nbformat_minor": 0,
  "metadata": {
    "colab": {
      "name": "KNN-2.ipynb",
      "provenance": []
    },
    "kernelspec": {
      "name": "python3",
      "display_name": "Python 3"
    }
  },
  "cells": [
    {
      "cell_type": "markdown",
      "metadata": {
        "id": "t1x35R1Zest6"
      },
      "source": [
        "Classify the numbers (0-9) using KNN\n",
        "\n",
        "\n"
      ]
    },
    {
      "cell_type": "code",
      "metadata": {
        "id": "yDEdhvs-iPvx"
      },
      "source": [
        "import numpy as np\n",
        "import matplotlib.pyplot as plt"
      ],
      "execution_count": null,
      "outputs": []
    },
    {
      "cell_type": "markdown",
      "metadata": {
        "id": "yCeIXYLgiT1W"
      },
      "source": [
        "step 1: Input the pattern in the form of 1-D array.\n",
        "\n",
        "\t*\t*\t\n",
        "*\t\t\t*\n",
        "*\t\t\t*\n",
        " *\t\t*\n",
        "\t*\t*\t\n",
        "Input pattern 0, Corresponding input array ={ 0,1,1,0,1,0,0,1,1,0,0,1,1,0,0,1,0,1,1,0}\n",
        "\n"
      ]
    },
    {
      "cell_type": "code",
      "metadata": {
        "id": "V3TZdqI6kTWu",
        "colab": {
          "base_uri": "https://localhost:8080/",
          "height": 51
        },
        "outputId": "f1915429-7032-483f-ce67-c5fe72f967e2"
      },
      "source": [
        "def InputPattern(train_or_test):\n",
        "\n",
        "  if train_or_test == 'train' : \n",
        "\n",
        "    data = np.array([\n",
        "                          [2.5,0],\n",
        "                          [1.5,1],\n",
        "                          [1,2],\n",
        "                          [1,3],\n",
        "                          [1.5,4],\n",
        "                          [2.5,5],\n",
        "                          [3.5,4],\n",
        "                          [4,3],\n",
        "                          [4,2],\n",
        "                          [3.5,1],\n",
        "                      ])\n",
        "    labels = ['0','1','2','3','4','5','6','7','8','9']\n",
        "  else : \n",
        "\n",
        "    data = np.array([\n",
        "                        [1.25,2],\n",
        "                        [2,4.45],\n",
        "                        [3,2]\n",
        "                      ])\n",
        "  \n",
        "    labels = ['2','4','9']\n",
        "\n",
        "  return data,labels\n",
        "\n",
        "  # write your code here\n",
        "\n",
        "train_x,labels_train = InputPattern('train')\n",
        "test_x,labels_test = InputPattern('test')\n",
        "\n",
        "print(\"X Train Shape = \",train_x.shape,\" Labels Shape = \" ,len(labels_train))\n",
        "print(\"X Test Shape = \",test_x.shape,\" Labels Shape =\", len(labels_test))"
      ],
      "execution_count": null,
      "outputs": [
        {
          "output_type": "stream",
          "text": [
            "X Train Shape =  (10, 2)  Labels Shape =  10\n",
            "X Test Shape =  (3, 2)  Labels Shape = 3\n"
          ],
          "name": "stdout"
        }
      ]
    },
    {
      "cell_type": "markdown",
      "metadata": {
        "id": "FwBtheDukylZ"
      },
      "source": [
        "Step2 :Plot the input patterns and write the classify code using *KNN*"
      ]
    },
    {
      "cell_type": "code",
      "metadata": {
        "id": "XdGa5_kpk4G0",
        "colab": {
          "base_uri": "https://localhost:8080/",
          "height": 626
        },
        "outputId": "d87566fc-9ab3-4a49-9081-ded2752c9858"
      },
      "source": [
        "# write your code here\n",
        "\n",
        "def scatter_plot(train_x, labels,test_x,labels_test):\n",
        "    \n",
        "    assert len(labels) == train_x.shape[0] \n",
        "      \n",
        "    train_x_class = dict()\n",
        "\n",
        "\n",
        "    i = 0\n",
        "    for label in labels :\n",
        "      if label not in train_x_class :\n",
        "        train_x_class[label] = [] \n",
        "      train_x_class[label].append(train_x[i])\n",
        "      i = i+1\n",
        "\n",
        "\n",
        "    fig = plt.figure(figsize=(10,10))\n",
        "    ax = fig.gca()\n",
        "    markers = ['o','x']\n",
        "    i = 0 \n",
        "    for label in train_x_class :\n",
        "      data = np.array(train_x_class[label])\n",
        "\n",
        "      ax.scatter(data[:,0],data[:,1])\n",
        "      ax.annotate(label,(data[:,0],data[:,1]))\n",
        "      i = i + 1\n",
        "\n",
        "    i = 0 \n",
        "    for label in labels_test : \n",
        "      ax.scatter(test_x[i,0],test_x[i,1])\n",
        "      ax.annotate(\"Test \"+label,(test_x[i,0],test_x[i,1]))\n",
        "      i = i+1\n",
        "\n",
        "\n",
        "\n",
        "def k_nearest_neighbors(train_x,labels_train,test_x_row,k):\n",
        "    \n",
        "    distances = list()\n",
        "    for i in range(train_x.shape[0]):\n",
        "        distance = np.linalg.norm(train_x[i]-test_x_row)\n",
        "        distances.append((train_x[i],labels_train[i],distance))\n",
        "    distances.sort(key = lambda x : x[2])\n",
        "    return distances[0:k]\n",
        "\n",
        "def KNNClassify(train_x,labels_train,test_x_row,k):\n",
        "    \n",
        "    neighbors = k_nearest_neighbors(train_x,labels_train,test_x_row,k)\n",
        "    print(neighbors)\n",
        "\n",
        "    # Get the labels of the nearest neighbors\n",
        "    classes = []\n",
        "    for neigh in neighbors:\n",
        "      classes.append(neigh[1])\n",
        "    \n",
        "\n",
        "    # If the vote count is equal then, return the closest label\n",
        "    classes_set = set(classes)\n",
        "    if len(classes_set) == len(classes) :\n",
        "      return classes[0]\n",
        "    # If the vote count is unequal then, return the label with max vote\n",
        "    else :\n",
        "      prediction = max(set(classes),key = classes.count)\n",
        "    \n",
        "    return prediction\n",
        "\n",
        "scatter_plot(train_x,labels_train,test_x,labels_test)\n",
        "\n",
        "\n",
        "test_idx = 2\n",
        "label_random = KNNClassify(train_x,labels_train,test_x[test_idx],3)\n",
        "print(\"The predicted label of (\", test_x[test_idx][0], \",\" , test_x[test_idx][1], \")  =  \",label_random, \", True Label = \",labels_test[test_idx])\n"
      ],
      "execution_count": null,
      "outputs": [
        {
          "output_type": "stream",
          "text": [
            "[(array([4., 2.]), '8', 1.0), (array([3.5, 1. ]), '9', 1.118033988749895), (array([4., 3.]), '7', 1.4142135623730951)]\n",
            "The predicted label of ( 3.0 , 2.0 )  =   8 , True Label =  9\n"
          ],
          "name": "stdout"
        },
        {
          "output_type": "display_data",
          "data": {
            "image/png": "[encoded data removed]",
            "text/plain": [
              "<Figure size 720x720 with 1 Axes>"
            ]
          },
          "metadata": {
            "tags": [],
            "needs_background": "light"
          }
        }
      ]
    },
    {
      "cell_type": "markdown",
      "metadata": {
        "id": "9kaqqMt7k40l"
      },
      "source": [
        "step3 : Test with noisy inputs and plot the noisy input and the classified output pattern"
      ]
    },
    {
      "cell_type": "code",
      "metadata": {
        "id": "xGeuB1bulQAZ",
        "colab": {
          "base_uri": "https://localhost:8080/",
          "height": 85
        },
        "outputId": "5471ab7f-d0d3-4cfe-93e1-2f055efe6509"
      },
      "source": [
        "#testing\n",
        "def test_fn(train,test,k):\n",
        "    \n",
        "    accuracy = 0 \n",
        "    for i in range(test['x'].shape[0]):\n",
        "        \n",
        "        prediction = KNNClassify(train['x'],train['y'],test['x'][i],k)\n",
        "        if prediction == test['y'][i]:\n",
        "            accuracy += 1\n",
        "    \n",
        "    accuracy = (accuracy*100)/(test['x'].shape[0])\n",
        "    return accuracy\n",
        "\n",
        "train = {\n",
        "    'x' : train_x,\n",
        "    'y' : labels_train\n",
        "}\n",
        "test = {\n",
        "    'x' : test_x,\n",
        "    'y' : labels_test\n",
        "}\n",
        "\n",
        "acc = test_fn(train,test,3)\n",
        "print(\"The accuracy of the Classifier is  = \",acc)"
      ],
      "execution_count": null,
      "outputs": [
        {
          "output_type": "stream",
          "text": [
            "[(array([1., 2.]), '2', 0.25), (array([1.5, 1. ]), '1', 1.0307764064044151), (array([1., 3.]), '3', 1.0307764064044151)]\n",
            "[(array([1.5, 4. ]), '4', 0.6726812023536856), (array([2.5, 5. ]), '5', 0.7433034373659251), (array([3.5, 4. ]), '6', 1.5660459763365826)]\n",
            "[(array([4., 2.]), '8', 1.0), (array([3.5, 1. ]), '9', 1.118033988749895), (array([4., 3.]), '7', 1.4142135623730951)]\n",
            "The accuracy of the Classifier is  =  66.66666666666667\n"
          ],
          "name": "stdout"
        }
      ]
    },
    {
      "cell_type": "code",
      "metadata": {
        "id": "sj6VqZfxOtn8"
      },
      "source": [
        ""
      ],
      "execution_count": null,
      "outputs": []
    }
  ]
}