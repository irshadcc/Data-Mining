{
 "cells": [
  {
   "cell_type": "markdown",
   "metadata": {
    "colab_type": "text",
    "id": "WwnVmCc8otXh"
   },
   "source": [
    "# K Means and K Medoids\n",
    "\n",
    "\n",
    "\n",
    "\n",
    "\n",
    "\n",
    "\n",
    "\n",
    "\n",
    "\n"
   ]
  },
  {
   "cell_type": "code",
   "execution_count": 1,
   "metadata": {
    "colab": {
     "base_uri": "https://localhost:8080/",
     "height": 196
    },
    "colab_type": "code",
    "id": "YY5mX1meDmMB",
    "outputId": "0fa0bb93-7663-42f2-91b9-ed4b4f062a14"
   },
   "outputs": [
    {
     "name": "stdout",
     "output_type": "stream",
     "text": [
      "--2020-02-03 13:52:48--  https://archive.ics.uci.edu/ml/machine-learning-databases/iris/iris.data\n",
      "Resolving archive.ics.uci.edu (archive.ics.uci.edu)... 128.195.10.252\n",
      "Connecting to archive.ics.uci.edu (archive.ics.uci.edu)|128.195.10.252|:443... connected.\n",
      "HTTP request sent, awaiting response... 200 OK\n",
      "Length: 4551 (4.4K) [application/x-httpd-php]\n",
      "Saving to: ‘iris.data’\n",
      "\n",
      "100%[======================================>] 4,551       --.-K/s   in 0s      \n",
      "\n",
      "2020-02-03 13:52:49 (18.8 MB/s) - ‘iris.data’ saved [4551/4551]\n",
      "\n"
     ]
    }
   ],
   "source": [
    "!wget \"https://archive.ics.uci.edu/ml/machine-learning-databases/iris/iris.data\""
   ]
  },
  {
   "cell_type": "code",
   "execution_count": 3,
   "metadata": {
    "colab": {},
    "colab_type": "code",
    "id": "Aerk4hMQ9DBD"
   },
   "outputs": [],
   "source": [
    "import os\n",
    "\n",
    "import numpy as np\n",
    "import pandas as pd\n",
    "import seaborn as sns\n",
    "import matplotlib.pylab as plt\n"
   ]
  },
  {
   "cell_type": "markdown",
   "metadata": {
    "colab_type": "text",
    "id": "qxghmkAEojUK"
   },
   "source": [
    "\n",
    "\n",
    "## Data Cleaning, Processing\n"
   ]
  },
  {
   "cell_type": "code",
   "execution_count": 23,
   "metadata": {
    "colab": {},
    "colab_type": "code",
    "id": "bQTuQqqJ9DBI"
   },
   "outputs": [],
   "source": [
    "def get_data(filename,class_column):\n",
    "    \"\"\"\n",
    "        Returns train_df , val_df, test_df , dict_map\n",
    "        filename     : Relative filename of the directory\n",
    "        class_column : Name of the class column\n",
    "        ratio        : train_ratio\n",
    "    \"\"\"\n",
    "    \n",
    "    df = pd.read_csv(filename,header=None)\n",
    "    \n",
    "    train = { 'x' : []  }\n",
    "\n",
    "    classes  = df[class_column].unique().tolist()\n",
    "    dict_map = dict(enumerate(classes))\n",
    "    \n",
    "    for index,clss in dict_map.items():\n",
    "        \n",
    "        clss_df = df[df[class_column] == clss].sample(frac=1)\n",
    "        clss_df = clss_df.drop(columns=class_column)\n",
    "        n_rows = len(clss_df) \n",
    "        train['x'].append(clss_df.iloc[0 : n_rows].values.reshape(-1,4))     \n",
    "    \n",
    "    train['x'] = np.concatenate(train['x'])\n",
    "\n",
    "    return train\n",
    "\n",
    "def get_fake_data():\n",
    "    \n",
    "    train = dict()\n",
    "    train['x'] = np.array([ [100,5],\n",
    "                            [90,7],\n",
    "                            [15,96],\n",
    "                            [20,105],\n",
    "                            [85,12],\n",
    "                            [18,110]\n",
    "                         ])\n",
    "    return train\n",
    "    "
   ]
  },
  {
   "cell_type": "code",
   "execution_count": 24,
   "metadata": {
    "colab": {},
    "colab_type": "code",
    "id": "O8-krdFrFvXQ"
   },
   "outputs": [],
   "source": [
    "train_iris = get_data(\"iris.data\",4)\n",
    "train_fake = get_fake_data()\n"
   ]
  },
  {
   "cell_type": "markdown",
   "metadata": {
    "colab": {},
    "colab_type": "code",
    "id": "HWp6BlAyW78o"
   },
   "source": [
    "## K - Means"
   ]
  },
  {
   "cell_type": "code",
   "execution_count": 168,
   "metadata": {},
   "outputs": [],
   "source": [
    "class K_Means:\n",
    "\n",
    "    def __init__(self,data,k):\n",
    "        self.data = data\n",
    "        \n",
    "#         self.centroids = data[np.random.choice(data.shape[0],k)]\n",
    "        self.centroids = data[:k]\n",
    "        \n",
    "        self.k = k\n",
    "        self.data_clss = np.random.randint(0,high = k-1,size=(data.shape[0]))\n",
    "        \n",
    "    def train(self,no_iters):\n",
    "        \n",
    "        for i in range(no_iters):\n",
    "            distances = np.sqrt(((self.data - self.centroids[:,np.newaxis])**2).sum())\n",
    "            closest_point_idx = np.argmin(distances,axis=0)\n",
    "            \n",
    "#             self.centroids = np.array([self.data[closest_point_idx==k].mean(axis=0) for k in range(self.centroids.shape[0])])\n",
    "#             print(neigh_centroid)\n",
    "    def predict(self,test_point):\n",
    "    \n",
    "            \n",
    "    def visualize(self):\n",
    "        \n",
    "        plt.scatter(self.data[:,0],self.data[:,1])\n",
    "        plt.scatter(self.centroids[:,0],self.centroids[:,1])\n",
    "        \n",
    "    \n",
    "    \n",
    "    "
   ]
  },
  {
   "cell_type": "code",
   "execution_count": 169,
   "metadata": {},
   "outputs": [],
   "source": [
    "a = K_Means(train_fake['x'],2)"
   ]
  },
  {
   "cell_type": "code",
   "execution_count": 170,
   "metadata": {},
   "outputs": [
    {
     "name": "stderr",
     "output_type": "stream",
     "text": [
      "/home/nitdelhi107/Documents/171210029/lib/python3.7/site-packages/ipykernel_launcher.py:17: RuntimeWarning: Mean of empty slice.\n",
      "/home/nitdelhi107/Documents/171210029/lib/python3.7/site-packages/numpy/core/_methods.py:154: RuntimeWarning: invalid value encountered in true_divide\n",
      "  ret, rcount, out=ret, casting='unsafe', subok=False)\n"
     ]
    }
   ],
   "source": [
    "a.train(10)"
   ]
  },
  {
   "cell_type": "code",
   "execution_count": 171,
   "metadata": {},
   "outputs": [
    {
     "data": {
      "image/png": "[encoded data removed]",
      "text/plain": [
       "<Figure size 432x288 with 1 Axes>"
      ]
     },
     "metadata": {
      "needs_background": "light"
     },
     "output_type": "display_data"
    }
   ],
   "source": [
    "a.visualize()"
   ]
  },
  {
   "cell_type": "code",
   "execution_count": 146,
   "metadata": {},
   "outputs": [
    {
     "data": {
      "text/plain": [
       "array([[ 15,  96],\n",
       "       [100,   5]])"
      ]
     },
     "execution_count": 146,
     "metadata": {},
     "output_type": "execute_result"
    }
   ],
   "source": [
    "a.centroids"
   ]
  },
  {
   "cell_type": "code",
   "execution_count": 147,
   "metadata": {},
   "outputs": [
    {
     "data": {
      "text/plain": [
       "array([15, 96])"
      ]
     },
     "execution_count": 147,
     "metadata": {},
     "output_type": "execute_result"
    }
   ],
   "source": [
    "train_fake['x'][0]"
   ]
  },
  {
   "cell_type": "code",
   "execution_count": 150,
   "metadata": {},
   "outputs": [
    {
     "data": {
      "text/plain": [
       "0.0"
      ]
     },
     "execution_count": 150,
     "metadata": {},
     "output_type": "execute_result"
    }
   ],
   "source": [
    "np.sqrt(((train_fake['x'][0] - a.centroids[0])**2).sum())"
   ]
  },
  {
   "cell_type": "code",
   "execution_count": 126,
   "metadata": {},
   "outputs": [],
   "source": [
    "a"
   ]
  },
  {
   "cell_type": "code",
   "execution_count": 130,
   "metadata": {},
   "outputs": [],
   "source": [
    "index = np.random.choice(train['x'].shape[0], 3, replace=False) "
   ]
  },
  {
   "cell_type": "code",
   "execution_count": 131,
   "metadata": {},
   "outputs": [
    {
     "data": {
      "text/plain": [
       "array([16, 86, 26])"
      ]
     },
     "execution_count": 131,
     "metadata": {},
     "output_type": "execute_result"
    }
   ],
   "source": [
    "index"
   ]
  },
  {
   "cell_type": "code",
   "execution_count": null,
   "metadata": {},
   "outputs": [],
   "source": []
  }
 ],
 "metadata": {
  "colab": {
   "collapsed_sections": [],
   "name": "K-Means & K-Medioid .ipynb",
   "provenance": []
  },
  "kernelspec": {
   "display_name": "Python 3",
   "language": "python",
   "name": "python3"
  },
  "language_info": {
   "codemirror_mode": {
    "name": "ipython",
    "version": 3
   },
   "file_extension": ".py",
   "mimetype": "text/x-python",
   "name": "python",
   "nbconvert_exporter": "python",
   "pygments_lexer": "ipython3",
   "version": "3.7.4"
  }
 },
 "nbformat": 4,
 "nbformat_minor": 4
}
